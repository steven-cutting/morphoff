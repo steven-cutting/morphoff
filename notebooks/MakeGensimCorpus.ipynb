{
 "cells": [
  {
   "cell_type": "code",
   "execution_count": 1,
   "metadata": {
    "collapsed": true
   },
   "outputs": [],
   "source": [
    "import itertools as itls\n",
    "\n",
    "try:\n",
    "    import cytoolz as tlz\n",
    "    from cytoolz import curried as tlzc\n",
    "except ImportError:\n",
    "    import toolz as tlz\n",
    "    from toolz import curried as tlz\n",
    "\n",
    "from h_topic_model import utils as u\n",
    "from h_topic_model import segment as seg\n",
    "from h_topic_model import bagofwords as bow"
   ]
  },
  {
   "cell_type": "code",
   "execution_count": null,
   "metadata": {
    "collapsed": true
   },
   "outputs": [],
   "source": [
    "TEXT_DIR = \"/Users/steven_c/projects/h_topic_model/data/toy50k/toy50k/\"\n",
    "MODEL_FILE = \"/Users/steven_c/projects/h_topic_model/data/toy50k/model/model.bin\"\n",
    "\n",
    "DICT_FILE = \"/Users/steven_c/projects/h_topic_model/data/toy50k/gensim/dict.dict\"\n",
    "CORPUS_FILE = \"/Users/steven_c/projects/h_topic_model/data/toy50k/gensim/corpus.mm\"\n",
    "# DICT_FILE = \"/Users/steven_c/projects/h_topic_model/data/toy50k/gensim/\n",
    "TOTAl = 200"
   ]
  },
  {
   "cell_type": "code",
   "execution_count": null,
   "metadata": {
    "collapsed": true
   },
   "outputs": [],
   "source": [
    "model = seg.load_morfessor_model(MODEL_FILE)"
   ]
  },
  {
   "cell_type": "code",
   "execution_count": null,
   "metadata": {
    "collapsed": true
   },
   "outputs": [],
   "source": [
    "filenames = itls.islice(u.spelunker_gen(TEXT_DIR), TOTAl)\n",
    "txts = list(tlz.map(u.load_and_decode, filenames))"
   ]
  },
  {
   "cell_type": "code",
   "execution_count": null,
   "metadata": {
    "collapsed": true
   },
   "outputs": [],
   "source": [
    "len(txts)"
   ]
  },
  {
   "cell_type": "code",
   "execution_count": null,
   "metadata": {
    "collapsed": true
   },
   "outputs": [],
   "source": [
    "tokensSeqs = tlz.pipe(seg.segment_many(model, txts),\n",
    "                      tlzc.map(bow.filter_tokens),\n",
    "                      tlzc.map(list),\n",
    "                      list\n",
    "                     )"
   ]
  },
  {
   "cell_type": "code",
   "execution_count": null,
   "metadata": {
    "collapsed": true
   },
   "outputs": [],
   "source": [
    "len(tokensSeqs)"
   ]
  },
  {
   "cell_type": "code",
   "execution_count": null,
   "metadata": {
    "collapsed": true
   },
   "outputs": [],
   "source": [
    "dictionary = bow.mk_dict(tokensSeqs)\n",
    "dictionary = bow.filter_dict(dictionary)"
   ]
  },
  {
   "cell_type": "code",
   "execution_count": null,
   "metadata": {
    "collapsed": true
   },
   "outputs": [],
   "source": [
    "bowCorpus = bow.mk_corpus(dictionary, tokensSeqs)"
   ]
  },
  {
   "cell_type": "code",
   "execution_count": null,
   "metadata": {
    "collapsed": true
   },
   "outputs": [],
   "source": []
  }
 ],
 "metadata": {
  "kernelspec": {
   "display_name": "Python 2",
   "language": "python",
   "name": "python2"
  },
  "language_info": {
   "codemirror_mode": {
    "name": "ipython",
    "version": 2
   },
   "file_extension": ".py",
   "mimetype": "text/x-python",
   "name": "python",
   "nbconvert_exporter": "python",
   "pygments_lexer": "ipython2",
   "version": "2.7.10"
  }
 },
 "nbformat": 4,
 "nbformat_minor": 0
}
