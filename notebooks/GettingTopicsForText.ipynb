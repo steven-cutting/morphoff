{
 "cells": [
  {
   "cell_type": "code",
   "execution_count": 1,
   "metadata": {
    "collapsed": true
   },
   "outputs": [],
   "source": [
    "__title__ = 'h_topic_model'\n",
    "__author__ = 'Steven Cutting'\n",
    "__author_email__ = 'steven.e.cutting@gmail.com'\n",
    "__created_on__ = '03/28/2017'"
   ]
  },
  {
   "cell_type": "code",
   "execution_count": 2,
   "metadata": {
    "collapsed": true
   },
   "outputs": [],
   "source": [
    "import cytoolz as tlz"
   ]
  },
  {
   "cell_type": "code",
   "execution_count": 3,
   "metadata": {
    "collapsed": true
   },
   "outputs": [],
   "source": [
    "from h_topic_model import segment as sg\n",
    "from h_topic_model import bagofwords as bow\n",
    "from h_topic_model import gmodels as gm"
   ]
  },
  {
   "cell_type": "code",
   "execution_count": 4,
   "metadata": {
    "collapsed": true
   },
   "outputs": [],
   "source": [
    "SOME_FILE = \"/Users/steven_c/projects/h_topic_model/data/utf8.txt\""
   ]
  },
  {
   "cell_type": "code",
   "execution_count": 7,
   "metadata": {
    "collapsed": true
   },
   "outputs": [],
   "source": [
    "MORF_MODEL_FILE = \"/Users/steven_c/projects/h_topic_model/data/toy50k/scripttest_old/morfessor_model.bin\"\n",
    "DICT_FILE = \"/Users/steven_c/projects/h_topic_model/data/toy50k/scripttest_old/gensim_dict.dict\"\n",
    "TFIDF_FILE = \"/Users/steven_c/projects/h_topic_model/data/toy50k/scripttest_old/gensim_model.tfidf\"\n",
    "LDA_FILE = \"/Users/steven_c/projects/h_topic_model/data/toy50k/scripttest_old/gensim_model.lda\""
   ]
  },
  {
   "cell_type": "code",
   "execution_count": 8,
   "metadata": {
    "collapsed": false
   },
   "outputs": [],
   "source": [
    "morfModel = sg.load_morfessor_model(MORF_MODEL_FILE)\n",
    "dictionary = bow.load_dict(DICT_FILE)\n",
    "tfidfModel = gm.load_tfidf(TFIDF_FILE)\n",
    "ldaModel = gm.load_lda(LDA_FILE)"
   ]
  },
  {
   "cell_type": "markdown",
   "metadata": {},
   "source": [
    "---"
   ]
  },
  {
   "cell_type": "code",
   "execution_count": 10,
   "metadata": {
    "collapsed": true
   },
   "outputs": [],
   "source": [
    "with open(SOME_FILE) as f:\n",
    "    TXT = f.read()"
   ]
  },
  {
   "cell_type": "code",
   "execution_count": 26,
   "metadata": {
    "collapsed": false
   },
   "outputs": [
    {
     "data": {
      "text/plain": [
       "[4, 10, 15, 29, 50, 61, 68, 69, 78, 81, 89, 93, 98]"
      ]
     },
     "execution_count": 26,
     "metadata": {},
     "output_type": "execute_result"
    }
   ],
   "source": [
    "tlz.pipe(TXT,\n",
    "         lambda t: sg.segment_text(morfModel, t),\n",
    "         dictionary.doc2bow,\n",
    "         lambda t: tfidfModel[t],\n",
    "         #lambda t: ldaModel[t],\n",
    "         ldaModel.get_document_topics,\n",
    "         tlz.curried.map(tlz.first),\n",
    "         list\n",
    "         )\n"
   ]
  }
 ],
 "metadata": {
  "kernelspec": {
   "display_name": "Python 2",
   "language": "python",
   "name": "python2"
  },
  "language_info": {
   "codemirror_mode": {
    "name": "ipython",
    "version": 2
   },
   "file_extension": ".py",
   "mimetype": "text/x-python",
   "name": "python",
   "nbconvert_exporter": "python",
   "pygments_lexer": "ipython2",
   "version": "2.7.10"
  }
 },
 "nbformat": 4,
 "nbformat_minor": 0
}
