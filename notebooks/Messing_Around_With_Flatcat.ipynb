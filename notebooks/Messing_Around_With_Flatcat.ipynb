{
 "cells": [
  {
   "cell_type": "code",
   "execution_count": 796,
   "metadata": {
    "collapsed": true
   },
   "outputs": [],
   "source": [
    "import csv\n",
    "\n",
    "import itertools as itls"
   ]
  },
  {
   "cell_type": "code",
   "execution_count": 503,
   "metadata": {
    "collapsed": true
   },
   "outputs": [],
   "source": [
    "import flatcat\n",
    "import morfessor\n",
    "\n",
    "import cytoolz as tlz\n",
    "from cytoolz import curried as tlzc"
   ]
  },
  {
   "cell_type": "code",
   "execution_count": 510,
   "metadata": {
    "collapsed": true
   },
   "outputs": [],
   "source": [
    "from h_topic_model import segment as seg"
   ]
  },
  {
   "cell_type": "code",
   "execution_count": 3,
   "metadata": {
    "collapsed": true
   },
   "outputs": [],
   "source": [
    "IO = flatcat.FlatcatIO()"
   ]
  },
  {
   "cell_type": "code",
   "execution_count": 4,
   "metadata": {
    "collapsed": false
   },
   "outputs": [],
   "source": [
    "%time FMODEL = IO.read_tarball_model_file(\"../../data/toy50k/flatcat2/analysis.tar.gz\")"
   ]
  },
  {
   "cell_type": "code",
   "execution_count": 5,
   "metadata": {
    "collapsed": false
   },
   "outputs": [],
   "source": [
    "with open(\"../../data/toy50k/flatcat/wc.csv\") as f:\n",
    "    lines = [tlz.second(l) for l in csv.reader(f, delimiter='\\t')]"
   ]
  },
  {
   "cell_type": "code",
   "execution_count": 7,
   "metadata": {
    "collapsed": false
   },
   "outputs": [],
   "source": [
    "%time m = FMODEL.initialize_hmm()"
   ]
  },
  {
   "cell_type": "raw",
   "metadata": {},
   "source": [
    "FMODEL.viterbi_segment?"
   ]
  },
  {
   "cell_type": "code",
   "execution_count": 791,
   "metadata": {
    "collapsed": false
   },
   "outputs": [],
   "source": [
    "multi = tlz.pipe(lines,\n",
    "         tlzc.map(FMODEL.viterbi_analyze),\n",
    "         tlzc.map(tlz.first),\n",
    "         # tlzc.map(len),\n",
    "         # tlzc.filter(lambda l: len(l) > 1),\n",
    "         list,\n",
    "         )"
   ]
  },
  {
   "cell_type": "code",
   "execution_count": 324,
   "metadata": {
    "collapsed": false,
    "scrolled": true
   },
   "outputs": [
    {
     "data": {
      "text/plain": [
       "3845"
      ]
     },
     "execution_count": 324,
     "metadata": {},
     "output_type": "execute_result"
    }
   ],
   "source": [
    "len(multi)"
   ]
  },
  {
   "cell_type": "code",
   "execution_count": 325,
   "metadata": {
    "collapsed": false
   },
   "outputs": [
    {
     "data": {
      "text/plain": [
       "(27/ZZZ, 4/ZZZ)"
      ]
     },
     "execution_count": 325,
     "metadata": {},
     "output_type": "execute_result"
    }
   ],
   "source": [
    "multi[1]"
   ]
  },
  {
   "cell_type": "code",
   "execution_count": 515,
   "metadata": {
    "collapsed": false
   },
   "outputs": [],
   "source": [
    "f = ((i,l) for i,l in enumerate(tlz.random_sample(0.1, multi, 2017)))"
   ]
  },
  {
   "cell_type": "code",
   "execution_count": 516,
   "metadata": {
    "collapsed": false
   },
   "outputs": [
    {
     "name": "stdout",
     "output_type": "stream",
     "text": [
      "0 (2./ZZZ, 70/ZZZ)\n"
     ]
    }
   ],
   "source": [
    "i, l = f.next()\n",
    "print \"{} {}\".format(i, l)"
   ]
  },
  {
   "cell_type": "code",
   "execution_count": 792,
   "metadata": {
    "collapsed": false
   },
   "outputs": [
    {
     "data": {
      "text/plain": [
       "167107"
      ]
     },
     "execution_count": 792,
     "metadata": {},
     "output_type": "execute_result"
    }
   ],
   "source": [
    "len(set(tlz.concat(multi)))"
   ]
  },
  {
   "cell_type": "code",
   "execution_count": 793,
   "metadata": {
    "collapsed": false
   },
   "outputs": [
    {
     "data": {
      "text/plain": [
       "169699"
      ]
     },
     "execution_count": 793,
     "metadata": {},
     "output_type": "execute_result"
    }
   ],
   "source": [
    "len(set(lines))"
   ]
  },
  {
   "cell_type": "markdown",
   "metadata": {
    "collapsed": true
   },
   "source": [
    "---"
   ]
  },
  {
   "cell_type": "code",
   "execution_count": 508,
   "metadata": {
    "collapsed": false,
    "scrolled": true
   },
   "outputs": [
    {
     "name": "stdout",
     "output_type": "stream",
     "text": [
      "CPU times: user 3.21 s, sys: 847 ms, total: 4.06 s\n",
      "Wall time: 4.62 s\n"
     ]
    }
   ],
   "source": [
    "MIO = morfessor.MorfessorIO()\n",
    "%time MMODEL = MIO.read_binary_file(\"../../data/toy50k/scripttest/morfessor_model.bin\")\n"
   ]
  },
  {
   "cell_type": "code",
   "execution_count": 716,
   "metadata": {
    "collapsed": false
   },
   "outputs": [],
   "source": [
    "mmulti = tlz.pipe(lines,\n",
    "         tlzc.map(seg.mk_segment_token(MMODEL)),\n",
    "         tlzc.map(tlz.first),\n",
    "         # tlzc.map(len),\n",
    "         # tlzc.filter(lambda l: len(l) > 1),\n",
    "         list,\n",
    "         )"
   ]
  },
  {
   "cell_type": "code",
   "execution_count": 514,
   "metadata": {
    "collapsed": false
   },
   "outputs": [
    {
     "data": {
      "text/plain": [
       "9737"
      ]
     },
     "execution_count": 514,
     "metadata": {},
     "output_type": "execute_result"
    }
   ],
   "source": [
    "len(mmulti)"
   ]
  },
  {
   "cell_type": "code",
   "execution_count": 740,
   "metadata": {
    "collapsed": true
   },
   "outputs": [],
   "source": [
    "m = ((i,l) for i,l in enumerate(tlz.random_sample(0.01, mmulti, 1)))"
   ]
  },
  {
   "cell_type": "code",
   "execution_count": 790,
   "metadata": {
    "collapsed": false
   },
   "outputs": [
    {
     "name": "stdout",
     "output_type": "stream",
     "text": [
      "49 ['\\xd7\\x9b\\xd7\\x95\\xd7\\xa9\\xd7\\x9c\\xd7\\xaa']\n"
     ]
    }
   ],
   "source": [
    "i, l = m.next()\n",
    "print \"{} {}\".format(i, l)"
   ]
  },
  {
   "cell_type": "code",
   "execution_count": 717,
   "metadata": {
    "collapsed": true
   },
   "outputs": [],
   "source": [
    "h = set(tlz.concat(mmulti))"
   ]
  },
  {
   "cell_type": "code",
   "execution_count": 719,
   "metadata": {
    "collapsed": false
   },
   "outputs": [
    {
     "data": {
      "text/plain": [
       "159524"
      ]
     },
     "execution_count": 719,
     "metadata": {},
     "output_type": "execute_result"
    }
   ],
   "source": [
    "len(h)"
   ]
  },
  {
   "cell_type": "code",
   "execution_count": 720,
   "metadata": {
    "collapsed": false,
    "scrolled": true
   },
   "outputs": [
    {
     "data": {
      "text/plain": [
       "169699"
      ]
     },
     "execution_count": 720,
     "metadata": {},
     "output_type": "execute_result"
    }
   ],
   "source": [
    "len(set(lines))"
   ]
  },
  {
   "cell_type": "code",
   "execution_count": 830,
   "metadata": {
    "collapsed": true
   },
   "outputs": [
    {
     "data": {
      "text/plain": [
       "[['\\xd7\\x97\\xd7\\x99\\xd7\\x9c\\xd7\\x95\\xd7\\xa0\\xd7\\x99\\xd7\\x9d', ')'],\n",
       " ['(', '\\xd7\\x94\\xd7\\x95\\xd7\\x9f', ')'],\n",
       " ['(', '\\xd7\\xa9\\xd7\\x98\\xd7\\xa8\\xd7\\x9d'],\n",
       " ['(', '\\xd7\\x90\\xd7\\x97\\xd7\\xa8\\xd7\\x99'],\n",
       " ['(', '\\xd7\\x91\\xd7\\x9e\\xd7\\x95\\xd7\\xa0\\xd7\\x97\\xd7\\x99'],\n",
       " ['(', '\\xd7\\xa2\\xd7\\xa9\\xd7\\x95\\xd7\\x99'],\n",
       " ['\\xd7\\x9b\\xd7\\x95\\xd7\\x9c\\xd7\\x95', ')'],\n",
       " ['(', '\\xd7\\xa0\\xd7\\x98\\xd7\\xa9\\xd7\\x94'],\n",
       " ['\\xd7\\x91\\xd7\\x93\\xd7\\x99\\xd7\\x9e\\xd7\\x95\\xd7\\xa1', ')'],\n",
       " ['\\xd7\\x9e\\xd7\\xaa\\xd7\\x97\\xd7\\xa8\\xd7\\x94', ').'],\n",
       " ['\\xd7\\x95\\xd7\\x9e\\xd7\\xa1\\xd7\\x97\\xd7\\xa8\\xd7\\x99\\xd7\\x99\\xd7\\x9d', ')'],\n",
       " ['\\xd7\\x94\\xd7\\x99\\xd7\\x93\\xd7\\xa8\\xd7\\x90\\xd7\\x95\\xd7\\x9c\\xd7\\x99\\xd7\\x95\\xd7\\xaa',\n",
       "  ')'],\n",
       " ['\\xd7\\xa2\"\\xd7\\x9b', ')'],\n",
       " ['\\xd7\\x92\\xd7\\x99\\xd7\\x9c\\xd7\\x9f', ')'],\n",
       " ['(', '\\xd7\\x94\\xd7\\x9b\\xd7\\x95\\xd7\\x9c\\xd7\\x9c'],\n",
       " ['(', '\\xd7\\xaa\\xd7\\xa9\\xd7\\x9c\\xd7\\x95\\xd7\\x9e\\xd7\\x99\\xd7\\x9d'],\n",
       " ['\\xd7\\x99\\xd7\\x95\\xd7\\xa8\\xd7\\x95\\xd7\\xa1\\xd7\\xa4\\xd7\\x95\\xd7\\xa8\\xd7\\x98',\n",
       "  ')'],\n",
       " ['(', '\\xd7\\x91\\xd7\\x9b\\xd7\\xa4\\xd7\\x95\\xd7\\xa3'],\n",
       " ['(', '\\xd7\\x92\\xd7\\x9e\"\\xd7\\x9e\"r', 'lm'],\n",
       " ['(', '\\xd7\\xa4\\xd7\\x95\\xd7\\x9c\\xd7\\x99', ')'],\n",
       " ['(', '\\xd7\\x9b\\xd7\\x95\\xd7\\x9c\\xd7\\x9c'],\n",
       " ['\\xd7\\x94\\xd7\\x9e\\xd7\\xa7\\xd7\\x95\\xd7\\x9e\\xd7\\x99', ')'],\n",
       " ['(', '\\xd7\\x95\\xd7\\x94\\xd7\\x95\\xd7\\x90'],\n",
       " ['(', '\\xd7\\x93\\xd7\\xa1\\xd7\\xa7\"\\xd7\\xa9', ')'],\n",
       " ['\\xd7\\xa9\\xd7\\x9e\\xd7\\x99\\xd7\\xa1', ')'],\n",
       " ['(', '\\xd7\\xa7\\xd7\\xa8\\xd7\\xa9\\xd7\\x99\\xd7\\x90\\xd7\\xa7\\xd7\\x94', ')'],\n",
       " ['(', '\\xd7\\xa2\\xd7\\xa8\\xd7\\x9b\\xd7\\x90\\xd7\\x94'],\n",
       " ['(', '\\xd7\\xa9\\xd7\\xa0\\xd7\\x9b\\xd7\\x9c\\xd7\\x9c'],\n",
       " ['(', '\\xd7\\xa9\\xd7\\x91\\xd7\\xaa'],\n",
       " ['\\xd7\\x94\\xd7\\x9e\\xd7\\x95\\xd7\\xa9\\xd7\\xa7\\xd7\\xa2', ')'],\n",
       " ['(', '\\xd7\\x91\\xd7\\xaa\\xd7\\xa7\\xd7\\x95\\xd7\\xa4\\xd7\\xaa'],\n",
       " ['\\xd7\\x91\\xd7\\xa8\\xd7\\x95\\xd7\\x95\\xd7\\x97\\xd7\\x99\\xd7\\x9d', ')'],\n",
       " ['(',\n",
       "  '\\xd7\\xa7\\xd7\\x95\\xd7\\x95\\xd7\\x99\\xd7\\x9c\\xd7\\x98\\xd7\\x99\\xd7\\xa0\\xd7\\x92'],\n",
       " ['\\xd7\\xa1\\xd7\\xa0\\xd7\\x90\\xd7\\x99', ')'],\n",
       " ['(', '\\xd7\\x91\\xd7\\x9c\\xd7\\x95\\xd7\\xa7'],\n",
       " ['\\xd7\\x96\\xd7\\x9b\\xd7\\xaa\\xd7\\x94', ').'],\n",
       " ['(', '\\xd7\\x91\\xd7\\x97\\xd7\\x95\\xd7\\x93\\xd7\\xa9'],\n",
       " ['(', '\\xd7\\xa9\\xd7\\x91\\xd7\\x94'],\n",
       " ['\\xd7\\x94\\xd7\\x9e\\xd7\\x9c\\xd7\\x97\\xd7\\x9e\\xd7\\x94', ')'],\n",
       " ['\\xd7\\x91\\xd7\\x97\\xd7\\x95\\xd7\\xa8\\xd7\\xa3', ').'],\n",
       " ['(', '\\xd7\\x99\\xd7\\xa6\\xd7\\xa8\\xd7\\xa0\\xd7\\x99\\xd7\\xaa'],\n",
       " ['\\xd7\\xa9\"\\xd7\\x90', ')'],\n",
       " ['(', '\\xd7\\x94\\xd7\\x9c\\xd7\\x90\\xd7\\x95\\xd7\\x9e\\xd7\\xa0\\xd7\\x99\\xd7\\x9d'],\n",
       " ['(', '\\xd7\\xa4\\xd7\\xa8\\xd7\\xa7'],\n",
       " ['(', '\\xd7\\x90\\xd7\\xa8\\xd7\\x95\\xd7\\x9f'],\n",
       " ['\\xd7\\x9c\\xd7\\x99\\xd7\\xa9\"\\xd7\\x98', ').'],\n",
       " ['\\xd7\\x97\\xd7\\x9c\\xd7\\x91', ')'],\n",
       " ['(', '\\xd7\\xa9\\xd7\\x9b\\xd7\\x99\\xd7\\x95\\xd7\\x9d'],\n",
       " ['(', '\\xd7\\xa6\\xd7\\x91\\xd7\\x99'],\n",
       " ['(', '\\xd7\\xa9\\xd7\\x94\\xd7\\x99\\xd7\\xa0\\xd7\\x95'],\n",
       " ['\\xd7\\x9c\\xd7\\x93\\xd7\\x90\\xd7\\x9c\\xd7\\x90\\xd7\\xa1', ')'],\n",
       " ['\\xd7\\x9e\\xd7\\x93\\xd7\\x99\\xd7\\xa0\\xd7\\x95\\xd7\\xaa', ')'],\n",
       " ['\\xd7\\x91\\xd7\\x90\\xd7\\x95\\xd7\\x9c\\xd7\\xa4\\xd7\\x9f', ')'],\n",
       " ['\\xd7\\xa9\\xd7\\x91\\xd7\\x93\\xd7\\xa8\\xd7\\x9a', ')'],\n",
       " ['\\xd7\\x90\\xd7\\xa7\\xd7\\x98\\xd7\\x95\\xd7\\x90\\xd7\\xa8\\xd7\\x99', ')'],\n",
       " ['(', '\\xd7\\x91\\xd7\\x90\\xd7\\xa0\\xd7\\x92\\xd7\\x9c\\xd7\\x99\\xd7\\xaa', ')'],\n",
       " ['\\xd7\\x9c\\xd7\\x95\\xd7\\xa1', ').'],\n",
       " ['\\xd7\\x94\\xd7\\x99\\xd7\\xa6\\xd7\\x99\\xd7\\xa8\\xd7\\x94', ')'],\n",
       " ['(', '\\xd7\\x90\\xd7\\xa4\\xd7\\x9c\\xd7\\x99\\xd7\\x94'],\n",
       " ['\\xd7\\x9e\\xd7\\xa7\\xd7\\x95\\xd7\\x9e\\xd7\\x99', ')'],\n",
       " [\"\\xd7\\x95\\xd7\\xa0\\xd7\\x98\\xd7\\x95\\xd7\\x95\\xd7\\x99\\xd7\\x96'\\xd7\\x9f\", ')'],\n",
       " ['(', '\\xd7\\x94\\xd7\\xa8\\xd7\\x99\\xd7\\xa9\\xd7\\x95\\xd7\\x9d'],\n",
       " ['(', '\\xd7\\xa9\\xd7\\x92\\xd7\\xa8\\xd7\\x99\\xd7\\xa8\\xd7\\xaa'],\n",
       " ['(', '\\xd7\\xa9\\xd7\\x94\\xd7\\x97\\xd7\\x9c\\xd7\\x94'],\n",
       " ['\\xd7\\x91\\xd7\\x98\\xd7\\x9f', ').'],\n",
       " ['\\xd7\\x99\\xd7\\x9c\\xd7\\x93\\xd7\\x99\\xd7\\x9d', ').'],\n",
       " ['(', '\\xd7\\x94\\xd7\\x99\\xd7\\x99\\xd7\\xa0\\xd7\\xa8\\xd7\\x99\\xd7\\x9a', ')'],\n",
       " ['(', '\\xd7\\x97\\xd7\\xa9\\xd7\\x91'],\n",
       " ['(', '\\xd7\\xa1\\xd7\\xa7\\xd7\\x95\\xd7\\x98'],\n",
       " ['(', '\\xd7\\xa1\\xd7\\xa7\\xd7\\xa8'],\n",
       " ['(', '\\xd7\\x95\\xd7\\x91\\xd7\\xa9\\xd7\\x9c\\xd7\\x91'],\n",
       " ['\\xd7\\x92\\xd7\\x93\\xd7\\x95\\xd7\\x9c\\xd7\\x99\\xd7\\x9d', ').'],\n",
       " ['\\xd7\\x91\\xd7\\x99\\xd7\\xa9\\xd7\\xa8\\xd7\\x90\\xd7\\x9c', ')'],\n",
       " ['\\xd7\\x92\\xd7\\x99\\xd7\\x93\\xd7\\x95\\xd7\\x9c', ')'],\n",
       " [\"\\xd7\\x90\\xd7\\x97\\xd7\\x9e\\xd7\\x93\\xd7\\x99\\xd7\\xa0\\xd7\\x92'\",\n",
       "  '\\xd7\\x90\\xd7\\x93\\xd7\\xa8\\xd7\\x95\\xd7\\x99\\xd7\\x98\\xd7\\xa8\\xd7\\xa1'],\n",
       " ['\\xd7\\x94\\xd7\\x9e\\xd7\\xa4\\xd7\\x99\\xd7\\x95\\xd7\\xaa', ')'],\n",
       " ['(', '\\xd7\\x90\\xd7\\xa6\\xd7\\x9c'],\n",
       " ['\\xd7\\x91\\xd7\\x99\\xd7\\xaa', ').'],\n",
       " ['(', '\\xd7\\x94\\xd7\\x9e\\xd7\\x95\\xd7\\xa4\\xd7\\xa6\\xd7\\x99\\xd7\\x9d'],\n",
       " ['(', '\\xd7\\x90\\xd7\\xa8\\xd7\\x91\\xd7\\x9c', ')'],\n",
       " ['\\xd7\\x95\\xd7\\x9e\\xd7\\x97\\xd7\\x95\\xd7\\xa1\\xd7\\xa4\\xd7\\xa1', ').'],\n",
       " ['\\xd7\\x9b\\xd7\\x9a', ')'],\n",
       " ['(', '\\xd7\\x90\\xd7\\x98\\xd7\\x99\\xd7\\x90\\xd7\\xa1'],\n",
       " ['(', '\\xd7\\x9c\\xd7\\x90\\xd7\\x94'],\n",
       " ['(', '\\xd7\\x9e\\xd7\\x91\\xd7\\x97\\xd7\\x99\\xd7\\xa0\\xd7\\xaa'],\n",
       " [\"\\xd7\\x90\\xd7\\xa7\\xd7\\xa1\\xd7\\xa6'\\xd7\\x99\\xd7\\x99\\xd7\\xa0\\xd7\\x92\", \"'.\"],\n",
       " ['(', '\\xd7\\xa7\\xd7\\x90\\xd7\\xa1\\xd7\\x98\\xd7\\xaa'],\n",
       " ['\\xd7\\x91\\xd7\\x99\\xd7\\xa4\\xd7\\xa0\\xd7\\x90\\xd7\\x95\\xd7\\x98\\xd7\\x95', ')'],\n",
       " ['\\xd7\\xa2\\xd7\\x95\\xd7\\xa0\\xd7\\xaa\\xd7\\x99\\xd7\\x95\\xd7\\xaa', ').'],\n",
       " ['(',\n",
       "  '\\xd7\\x91\\xd7\\x9e\\xd7\\x99\\xd7\\x9c\\xd7\\x99\\xd7\\x90\\xd7\\xa8\\xd7\\x93\\xd7\\x99'],\n",
       " ['(', '\\xd7\\x9b\\xd7\\x92\\xd7\\x95\\xd7\\x9f'],\n",
       " ['(', '\\xd7\\x93\\xd7\\x99\\xd7\\x95\\xd7\\xa8', ')'],\n",
       " ['(', '\\xd7\\xa2\\xd7\\x9e\\xd7\\x9c\\xd7\\x95\\xd7\\xaa', ')'],\n",
       " ['(', '\\xd7\\xa9\\xd7\\x90\\xd7\\x95\\xd7\\xaa\\xd7\\x9f'],\n",
       " ['\\xd7\\x91\\xd7\\x93\\xd7\\x95\\xd7\\x99', ').'],\n",
       " ['\\xd7\\xa9\\xd7\\x9c\\xd7\\x9a', ').'],\n",
       " ['(', '\\xd7\\x91\\xd7\\x94\\xd7\\xa4\\xd7\\xa2\\xd7\\x9c\\xd7\\xaa\\xd7\\x95'],\n",
       " ['(', '\\xd7\\xa1\\xd7\\x90\\xd7\\x92\\xd7\\xa8\\xd7\\x93\\xd7\\x95', ')'],\n",
       " ['(', '\\xd7\\x9b\\xd7\\xa8\\xd7\\x98\\xd7\\x99\\xd7\\xa1'],\n",
       " ['(', '\\xd7\\x9c\\xd7\\x99\\xd7\\x95\\xd7\\xa6\\xd7\\x90\\xd7\\x99']]"
      ]
     },
     "execution_count": 830,
     "metadata": {},
     "output_type": "execute_result"
    }
   ],
   "source": [
    "list(itls.islice(tlz.filter(lambda p: len(p)>1 and type(p) == list, mmulti), 100))"
   ]
  },
  {
   "cell_type": "code",
   "execution_count": 834,
   "metadata": {
    "collapsed": false
   },
   "outputs": [
    {
     "name": "stdout",
     "output_type": "stream",
     "text": [
      "(שטרם                       (שטרם\n",
      "(הרישום                   (הרישום\n",
      "(ובשלב                     (ובשלב\n",
      "ביפנאוטו)               ביפנאוטו)\n",
      "גילאי)                     גילאי)\n",
      "המערב)                     המערב)\n",
      "8\"rlm                           8\"rlm\n",
      "הציונית)                 הציונית)\n",
      "נ\"ש).                         נ\"ש).\n",
      "(במבי)                      (במבי)\n",
      "המכונות)                 המכונות)\n",
      "(מדד                         (מדד\n",
      "(גרסה                       (גרסה\n",
      "בקרקע)                     בקרקע)\n",
      "בו)                           בו)\n",
      "(שהוקדש                   (שהוקדש\n",
      "(קיבוץ                     (קיבוץ\n",
      "(בבר                         (בבר\n",
      "(מל\"טים)                   (מל\"טים)\n",
      "(צבא                         (צבא\n",
      "(חיפה                       (חיפה\n",
      "ריבית\"rlm                  ריבית\"rlm\n",
      "א\"ש).                         א\"ש).\n",
      "ד)                             ד)\n",
      "(שמשודרת                 (שמשודרת\n",
      "מזמנו)                     מזמנו)\n",
      "אקוטו)                     אקוטו)\n",
      "ואנדרסון).              ואנדרסון).\n",
      "(בתמונה)                  (בתמונה)\n",
      "(רע)                          (רע)\n",
      "(שירות                     (שירות\n",
      "יונס)                       יונס)\n",
      "(לשילוב                   (לשילוב\n",
      "(קרוב                       (קרוב\n",
      "אינץ'.                      אינץ'.\n",
      "(וגם                         (וגם\n",
      "(מכיוון                   (מכיוון\n",
      "חג'ג'.                       חג'ג'.\n",
      "לליהיא).                  לליהיא).\n",
      "ארלוזורוב).            ארלוזורוב).\n",
      "(קתרין                     (קתרין\n",
      "מחויבות)                 מחויבות)\n",
      "(ויצר                       (ויצר\n",
      "(הבכורה                   (הבכורה\n",
      "(בייחוד                   (בייחוד\n",
      "צוקרברג)                 צוקרברג)\n",
      "(הפניית                   (הפניית\n",
      "הקיצונים)               הקיצונים)\n",
      "(המכונה                   (המכונה\n",
      "(משמאל)                    (משמאל)\n",
      "(ויש                         (ויש\n",
      "מראש)                       מראש)\n",
      "(נאור)                      (נאור)\n",
      "מדויקים).                מדויקים).\n",
      "הגברים)                   הגברים)\n",
      "המתנה)                     המתנה)\n",
      "(פתח                         (פתח\n",
      "(מלכים)                    (מלכים)\n",
      "(תודי                       (תודי\n",
      "(שבעבר                     (שבעבר\n",
      "(אגרון                     (אגרון\n",
      "(הולנד)                    (הולנד)\n",
      "אינפלציה)               אינפלציה)\n",
      "ימין)                       ימין)\n",
      "וטאץ'.                      וטאץ'.\n",
      "מנפחו)                     מנפחו)\n",
      "חמד)                         חמד)\n",
      "(חבטה                       (חבטה\n"
     ]
    }
   ],
   "source": [
    "for o,s in itls.islice(tlz.random_sample(0.01, tlz.filter(lambda p: len(p[1]) > 1 and type(p[1]) == list, zip(lines, mmulti)), 201), 100):\n",
    "    print \"{0:30}  {0}\".format(o,\"   \".join(tlz.map(lambda t: t.strip(), s)))"
   ]
  },
  {
   "cell_type": "code",
   "execution_count": null,
   "metadata": {
    "collapsed": true
   },
   "outputs": [],
   "source": []
  }
 ],
 "metadata": {
  "kernelspec": {
   "display_name": "Python 2",
   "language": "python",
   "name": "python2"
  },
  "language_info": {
   "codemirror_mode": {
    "name": "ipython",
    "version": 2
   },
   "file_extension": ".py",
   "mimetype": "text/x-python",
   "name": "python",
   "nbconvert_exporter": "python",
   "pygments_lexer": "ipython2",
   "version": "2.7.10"
  }
 },
 "nbformat": 4,
 "nbformat_minor": 0
}
